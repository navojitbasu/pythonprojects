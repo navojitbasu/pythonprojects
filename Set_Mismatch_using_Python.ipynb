{
  "nbformat": 4,
  "nbformat_minor": 0,
  "metadata": {
    "colab": {
      "provenance": [],
      "authorship_tag": "ABX9TyMZre605MlllSdRaPxnj1MN",
      "include_colab_link": true
    },
    "kernelspec": {
      "name": "python3",
      "display_name": "Python 3"
    },
    "language_info": {
      "name": "python"
    }
  },
  "cells": [
    {
      "cell_type": "markdown",
      "metadata": {
        "id": "view-in-github",
        "colab_type": "text"
      },
      "source": [
        "<a href=\"https://colab.research.google.com/github/navojitbasu/pythonprojects/blob/main/Set_Mismatch_using_Python.ipynb\" target=\"_parent\"><img src=\"https://colab.research.google.com/assets/colab-badge.svg\" alt=\"Open In Colab\"/></a>"
      ]
    },
    {
      "cell_type": "markdown",
      "source": [
        "In the Set Mismatch problem, we will be given an array of positive integers with some elements missing or duplicated. We need to identify and return the missing and duplicated numbers to solve this problem. \n",
        "\n",
        "An example of the input and output values of this problem is as below:\n",
        "\n",
        "Input: [1, 2, 3, 4, 4, 6] | Output: [5, 4]\n",
        "\n",
        "In this example, the missing number is 5 since it is the only positive integer from 1 to 6 that is not present in the array, and the duplicate number is 4 since it appears twice."
      ],
      "metadata": {
        "id": "SpeRZnlwmDlX"
      }
    },
    {
      "cell_type": "code",
      "execution_count": 1,
      "metadata": {
        "colab": {
          "base_uri": "https://localhost:8080/"
        },
        "id": "ZUx6UPmWmCKe",
        "outputId": "da533bed-c64e-4ff4-efd9-3d04b6f98ac9"
      },
      "outputs": [
        {
          "output_type": "stream",
          "name": "stdout",
          "text": [
            "[2, 3]\n"
          ]
        }
      ],
      "source": [
        "def findErrorNums(nums):\n",
        "    n = len(nums)\n",
        "    \n",
        "    duplicate = -1\n",
        "    for num in nums:\n",
        "        if nums[abs(num) - 1] < 0:\n",
        "            duplicate = abs(num)\n",
        "        else:\n",
        "            nums[abs(num) - 1] *= -1\n",
        "    \n",
        "    missing = -1\n",
        "    for i in range(n):\n",
        "        if nums[i] > 0:\n",
        "            missing = i + 1\n",
        "    return [duplicate, missing]\n",
        "\n",
        "nums = [1,2,2,4]\n",
        "print(findErrorNums(nums))"
      ]
    },
    {
      "cell_type": "code",
      "source": [],
      "metadata": {
        "id": "rr137ouXmnKl"
      },
      "execution_count": null,
      "outputs": []
    }
  ]
}